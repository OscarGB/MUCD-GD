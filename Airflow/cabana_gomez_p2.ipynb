{
 "cells": [
  {
   "cell_type": "code",
   "execution_count": 1,
   "metadata": {},
   "outputs": [],
   "source": [
    "import pandas as pd"
   ]
  },
  {
   "cell_type": "markdown",
   "metadata": {},
   "source": [
    "# Carga"
   ]
  },
  {
   "cell_type": "code",
   "execution_count": 2,
   "metadata": {},
   "outputs": [],
   "source": [
    "ratings = pd.read_csv(\"Datos/ratings.csv\")\n",
    "ratings.timestamp = pd.to_datetime(ratings.timestamp, unit='s')"
   ]
  },
  {
   "cell_type": "code",
   "execution_count": 3,
   "metadata": {},
   "outputs": [],
   "source": [
    "movies = pd.read_csv(\"Datos/movies.csv\")"
   ]
  },
  {
   "cell_type": "markdown",
   "metadata": {},
   "source": [
    "# Valores perdidos"
   ]
  },
  {
   "cell_type": "markdown",
   "metadata": {},
   "source": [
    "Vemos que en ratings no hay valores perdidos en las columnas `userId`, `movieId` y `timestamp`. Sin embargo, en la columna `rating` sí que los hay (aproximadamente un $2\\%$). Dado que el porcentaje es muy bajo, decidimos eliminar esas filas ya que no supone una pérdida significativa de información."
   ]
  },
  {
   "cell_type": "code",
   "execution_count": 4,
   "metadata": {},
   "outputs": [
    {
     "data": {
      "text/plain": [
       "userId       False\n",
       "movieId      False\n",
       "rating        True\n",
       "timestamp    False\n",
       "dtype: bool"
      ]
     },
     "execution_count": 4,
     "metadata": {},
     "output_type": "execute_result"
    }
   ],
   "source": [
    "ratings.isna().any()"
   ]
  },
  {
   "cell_type": "code",
   "execution_count": 5,
   "metadata": {},
   "outputs": [
    {
     "data": {
      "text/plain": [
       "495115"
      ]
     },
     "execution_count": 5,
     "metadata": {},
     "output_type": "execute_result"
    }
   ],
   "source": [
    "ratings.rating.isna().sum()"
   ]
  },
  {
   "cell_type": "code",
   "execution_count": 6,
   "metadata": {},
   "outputs": [
    {
     "data": {
      "text/plain": [
       "1.9804524742805978"
      ]
     },
     "execution_count": 6,
     "metadata": {},
     "output_type": "execute_result"
    }
   ],
   "source": [
    "ratings.rating.isna().sum()/len(ratings)*100"
   ]
  },
  {
   "cell_type": "code",
   "execution_count": 7,
   "metadata": {},
   "outputs": [],
   "source": [
    "# E\n",
    "ratings.dropna(axis=\"index\", subset=[\"rating\"], inplace=True)"
   ]
  },
  {
   "cell_type": "code",
   "execution_count": 8,
   "metadata": {},
   "outputs": [
    {
     "data": {
      "text/plain": [
       "0.0"
      ]
     },
     "execution_count": 8,
     "metadata": {},
     "output_type": "execute_result"
    }
   ],
   "source": [
    "ratings.rating.isna().sum()/len(ratings)*100"
   ]
  },
  {
   "cell_type": "markdown",
   "metadata": {},
   "source": [
    "En el caso de movies podemos ver que en la columna `genres` tiene un valor `(no genres listed)` el cual vamos a mantener como un género en sí mismo."
   ]
  },
  {
   "cell_type": "code",
   "execution_count": 9,
   "metadata": {},
   "outputs": [
    {
     "data": {
      "text/plain": [
       "Drama                                       9056\n",
       "Comedy                                      5674\n",
       "(no genres listed)                          5062\n",
       "Documentary                                 4731\n",
       "Comedy|Drama                                2386\n",
       "                                            ... \n",
       "Animation|Mystery|Thriller                     1\n",
       "Drama|Film-Noir|Musical|Thriller               1\n",
       "Adventure|Crime|Mystery|Romance|Thriller       1\n",
       "Animation|Children|Comedy|Horror               1\n",
       "Action|Crime|Thriller|Western                  1\n",
       "Name: genres, Length: 1662, dtype: int64"
      ]
     },
     "execution_count": 9,
     "metadata": {},
     "output_type": "execute_result"
    }
   ],
   "source": [
    "movies.genres.value_counts()"
   ]
  },
  {
   "cell_type": "markdown",
   "metadata": {},
   "source": [
    "# Normalización\n",
    "\n",
    "Dado que nuestro objetivo es realizar una consulta que realiza un promedio, no vemos necesario normalizar los datos."
   ]
  },
  {
   "cell_type": "markdown",
   "metadata": {},
   "source": [
    "# Limpieza de outliers\n",
    "\n",
    "El único caso que vamos a considerar con outliers es la columna `rating` en ratings.\n",
    "\n",
    "Esta columna solo debería presentar datos en el intervalo $[0.5,5]$ en incrementos de $0.5$. Los valores fuera de este intervalo serán descartados y los que estén dentro pero no sean múlitplo entero de $0.5$ los redondearemos al valor más cercano."
   ]
  },
  {
   "cell_type": "code",
   "execution_count": 10,
   "metadata": {},
   "outputs": [
    {
     "data": {
      "text/plain": [
       " 4.0     6505008\n",
       " 3.0     4798205\n",
       " 5.0     3540037\n",
       " 3.5     3112562\n",
       " 4.5     2156153\n",
       " 2.0     1607802\n",
       " 2.5     1237333\n",
       " 1.0      760986\n",
       " 1.5      391496\n",
       " 0.5      385181\n",
       " 1.1        1039\n",
       " 2.2         998\n",
       " 3.3         970\n",
       " 4.4         965\n",
       " 0.7         953\n",
       "-3.0         436\n",
       " 7.0         335\n",
       " 10.0        324\n",
       " 8.0         318\n",
       " 7.5         315\n",
       " 6.0         308\n",
       " 5.5         300\n",
       " 9.5         296\n",
       " 9.0         296\n",
       " 6.5         291\n",
       " 8.5         279\n",
       "-5.0         247\n",
       "-1.0         233\n",
       "-1.5         231\n",
       "-0.5         228\n",
       "-4.0         228\n",
       "-4.5         216\n",
       "-2.5         210\n",
       "-2.0         201\n",
       "Name: rating, dtype: int64"
      ]
     },
     "execution_count": 10,
     "metadata": {},
     "output_type": "execute_result"
    }
   ],
   "source": [
    "ratings.rating.value_counts()"
   ]
  },
  {
   "cell_type": "code",
   "execution_count": 11,
   "metadata": {},
   "outputs": [],
   "source": [
    "ratings = ratings[(0.5 <= ratings.rating) & (ratings.rating <= 5)]"
   ]
  },
  {
   "cell_type": "code",
   "execution_count": 12,
   "metadata": {},
   "outputs": [
    {
     "data": {
      "text/plain": [
       "4.0    6505008\n",
       "3.0    4798205\n",
       "5.0    3540037\n",
       "3.5    3112562\n",
       "4.5    2156153\n",
       "2.0    1607802\n",
       "2.5    1237333\n",
       "1.0     760986\n",
       "1.5     391496\n",
       "0.5     385181\n",
       "1.1       1039\n",
       "2.2        998\n",
       "3.3        970\n",
       "4.4        965\n",
       "0.7        953\n",
       "Name: rating, dtype: int64"
      ]
     },
     "execution_count": 12,
     "metadata": {},
     "output_type": "execute_result"
    }
   ],
   "source": [
    "ratings.rating.value_counts()"
   ]
  },
  {
   "cell_type": "code",
   "execution_count": 13,
   "metadata": {},
   "outputs": [],
   "source": [
    "ratings.rating = (ratings.rating*2).round()/2"
   ]
  },
  {
   "cell_type": "code",
   "execution_count": 14,
   "metadata": {},
   "outputs": [
    {
     "data": {
      "text/plain": [
       "4.0    6505008\n",
       "3.0    4798205\n",
       "5.0    3540037\n",
       "3.5    3113532\n",
       "4.5    2157118\n",
       "2.0    1608800\n",
       "2.5    1237333\n",
       "1.0     762025\n",
       "1.5     391496\n",
       "0.5     386134\n",
       "Name: rating, dtype: int64"
      ]
     },
     "execution_count": 14,
     "metadata": {},
     "output_type": "execute_result"
    }
   ],
   "source": [
    "ratings.rating.value_counts()"
   ]
  },
  {
   "cell_type": "markdown",
   "metadata": {},
   "source": [
    "# Preparación y unificación de datos"
   ]
  },
  {
   "cell_type": "markdown",
   "metadata": {},
   "source": [
    "Para facilitar la consulta por género vamos a separar todos los géneros pertenecientes a una película en registros separados. Posteriormente, vamos a unir ambas tablas para poder realizar la consulta, para la cual necesitamos los géneros y las valoraciones."
   ]
  },
  {
   "cell_type": "code",
   "execution_count": 15,
   "metadata": {},
   "outputs": [],
   "source": [
    "movies = movies.assign(genres=movies.genres.str.split('|')).explode('genres')"
   ]
  },
  {
   "cell_type": "code",
   "execution_count": 16,
   "metadata": {},
   "outputs": [],
   "source": [
    "ratings = ratings.merge(movies, on=\"movieId\", how=\"left\")"
   ]
  },
  {
   "cell_type": "markdown",
   "metadata": {},
   "source": [
    "Eliminamos el resto de columnas que no se utilizarían en la consulta para acelerar la carga de datos y, por tanto, acelerar el tiempo total de consulta."
   ]
  },
  {
   "cell_type": "code",
   "execution_count": 17,
   "metadata": {},
   "outputs": [],
   "source": [
    "ratings = ratings[[\"rating\", \"timestamp\", \"genres\"]]"
   ]
  },
  {
   "cell_type": "code",
   "execution_count": 18,
   "metadata": {},
   "outputs": [],
   "source": [
    "ratings.to_csv(\"Datos/pelis_procesadas.csv\")"
   ]
  }
 ],
 "metadata": {
  "kernelspec": {
   "display_name": "Python 3",
   "language": "python",
   "name": "python3"
  },
  "language_info": {
   "codemirror_mode": {
    "name": "ipython",
    "version": 3
   },
   "file_extension": ".py",
   "mimetype": "text/x-python",
   "name": "python",
   "nbconvert_exporter": "python",
   "pygments_lexer": "ipython3",
   "version": "3.8.3"
  }
 },
 "nbformat": 4,
 "nbformat_minor": 4
}
