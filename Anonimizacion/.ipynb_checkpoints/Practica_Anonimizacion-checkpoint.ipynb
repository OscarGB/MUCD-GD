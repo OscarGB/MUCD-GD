{
 "cells": [
  {
   "cell_type": "markdown",
   "metadata": {},
   "source": [
    "# GESTIÓN DE DATOS: Anonimización\n",
    "## Alejandro Cabana Suárez y Óscar Gómez Borzdynski"
   ]
  },
  {
   "cell_type": "code",
   "execution_count": 1,
   "metadata": {},
   "outputs": [],
   "source": [
    "import pandas as pd"
   ]
  },
  {
   "cell_type": "markdown",
   "metadata": {},
   "source": [
    "## Preparación de los datos\n",
    "\n",
    "Buscamos a Álvaro Ortigosa en el dataset anonimizado del personal pdi de la UAM en 2018.\n",
    "\n",
    "Disponemos de la siguiente informacion:\n",
    "\n",
    "* Álvaro aparece en el fichero\n",
    "* Álvaro era hombre en 2018 (des_genero == \"Hombre\")\n",
    "* Álvaro pertenecía al Departamento de Ingeniería Informática en 2018 (des_unidad_responsable == \"Departamento de Ingeniería Informática\"\n",
    "\n",
    "Por tanto filtramos el dataset siguiendo esos criterios y eliminamos las columnas que no usaremos en el análisis."
   ]
  },
  {
   "cell_type": "code",
   "execution_count": 2,
   "metadata": {},
   "outputs": [],
   "source": [
    "df = pd.read_csv(\"uam-personal-pdi-2018-anonimizado_0.csv\")\n",
    "df = df[df.des_unidad_responsable == \"Departamento de Ingeniería Informática\"]\n",
    "df = df[df.des_genero == \"Hombre\"]\n",
    "drop = [col for col in df.columns if col.startswith((\"cod_\", \"lat_\", \"lon_\"))]\n",
    "drop.append(\"IMPORTANTE\")\n",
    "drop.append(\"des_unidad_responsable\")\n",
    "drop.append(\"des_genero\")\n",
    "df = df.drop(columns=drop)    "
   ]
  },
  {
   "cell_type": "markdown",
   "metadata": {},
   "source": [
    "Posteriormente dividimos el dataframe en los bloques de coherencia especificados en la [información del dataset](https://dimetrical.atlassian.net/wiki/spaces/UNC/pages/490799108/Dataset+Personal+Docente+e+Investigador+PDI)"
   ]
  },
  {
   "cell_type": "code",
   "execution_count": 3,
   "metadata": {},
   "outputs": [],
   "source": [
    "bloque1 = df[[\"des_universidad\", \"anio\"]]\n",
    "bloque2 = df[[\"des_pais_nacionalidad\", \"des_continente_nacionalidad\", \"des_agregacion_paises_nacionalidad\"]]\n",
    "bloque3 = df[[\"des_comunidad_residencia\", \"des_provincia_residencia\", \"des_municipio_residencia\"]]\n",
    "bloque4 = df[[\"anio_nacimiento\"]]\n",
    "bloque5 = df[[\"des_tipo_personal\", \"des_categoria_cuerpo_escala\", \"des_tipo_contrato\", \"des_dedicacion\", \"num_horas_semanales_tiempo_parcial\", \"des_situacion_administrativa\"]]\n",
    "bloque6 = df[[\"ind_cargo_remunerado\"]]\n",
    "bloque7 = df[[\"des_titulo_doctorado\", \"des_pais_doctorado\", \"des_continente_doctorado\", \"des_agregacion_paises_doctorado\", \"des_universidad_doctorado\", \"anio_lectura_tesis\", \"anio_expedicion_titulo_doctor\", \"des_mencion_europea\"]]\n",
    "bloque8 = df[[\"des_tipo_unidad_responsable\", \"des_area_conocimiento\"]]\n",
    "bloque9 = df[[\"anio_incorporacion_ap\", \"anio_incorpora_cuerpo_docente\", \"num_trienios\", \"num_quinquenios\", \"num_sexenios\"]]\n",
    "bloque10 = df[[\"num_tesis\"]]\n",
    "bloque11 = df[[\"ind_investigador_principal\"]]"
   ]
  },
  {
   "cell_type": "markdown",
   "metadata": {},
   "source": [
    "## Bloque 1"
   ]
  },
  {
   "cell_type": "code",
   "execution_count": 4,
   "metadata": {},
   "outputs": [
    {
     "data": {
      "text/html": [
       "<div>\n",
       "<style scoped>\n",
       "    .dataframe tbody tr th:only-of-type {\n",
       "        vertical-align: middle;\n",
       "    }\n",
       "\n",
       "    .dataframe tbody tr th {\n",
       "        vertical-align: top;\n",
       "    }\n",
       "\n",
       "    .dataframe thead th {\n",
       "        text-align: right;\n",
       "    }\n",
       "</style>\n",
       "<table border=\"1\" class=\"dataframe\">\n",
       "  <thead>\n",
       "    <tr style=\"text-align: right;\">\n",
       "      <th></th>\n",
       "      <th>des_universidad</th>\n",
       "      <th>anio</th>\n",
       "    </tr>\n",
       "  </thead>\n",
       "  <tbody>\n",
       "    <tr>\n",
       "      <th>207</th>\n",
       "      <td>Universidad Autónoma de Madrid</td>\n",
       "      <td>2018</td>\n",
       "    </tr>\n",
       "  </tbody>\n",
       "</table>\n",
       "</div>"
      ],
      "text/plain": [
       "                    des_universidad  anio\n",
       "207  Universidad Autónoma de Madrid  2018"
      ]
     },
     "execution_count": 4,
     "metadata": {},
     "output_type": "execute_result"
    }
   ],
   "source": [
    "bloque1.drop_duplicates()"
   ]
  },
  {
   "cell_type": "markdown",
   "metadata": {},
   "source": [
    "Podemos ver que de este bloque no podemos obtener ninguna información relevante, ya que es básicamente la información que ya poseíamos."
   ]
  },
  {
   "cell_type": "markdown",
   "metadata": {},
   "source": [
    "## Bloque 2"
   ]
  },
  {
   "cell_type": "code",
   "execution_count": 5,
   "metadata": {},
   "outputs": [
    {
     "data": {
      "text/plain": [
       "España    56\n",
       "Italia     1\n",
       "Name: des_pais_nacionalidad, dtype: int64"
      ]
     },
     "execution_count": 5,
     "metadata": {},
     "output_type": "execute_result"
    }
   ],
   "source": [
    "bloque2.des_pais_nacionalidad.value_counts()"
   ]
  },
  {
   "cell_type": "code",
   "execution_count": 6,
   "metadata": {},
   "outputs": [
    {
     "data": {
      "text/html": [
       "<div>\n",
       "<style scoped>\n",
       "    .dataframe tbody tr th:only-of-type {\n",
       "        vertical-align: middle;\n",
       "    }\n",
       "\n",
       "    .dataframe tbody tr th {\n",
       "        vertical-align: top;\n",
       "    }\n",
       "\n",
       "    .dataframe thead th {\n",
       "        text-align: right;\n",
       "    }\n",
       "</style>\n",
       "<table border=\"1\" class=\"dataframe\">\n",
       "  <thead>\n",
       "    <tr style=\"text-align: right;\">\n",
       "      <th></th>\n",
       "      <th>des_universidad</th>\n",
       "      <th>anio</th>\n",
       "      <th>des_pais_nacionalidad</th>\n",
       "      <th>des_continente_nacionalidad</th>\n",
       "      <th>des_agregacion_paises_nacionalidad</th>\n",
       "      <th>des_comunidad_residencia</th>\n",
       "      <th>des_provincia_residencia</th>\n",
       "      <th>des_municipio_residencia</th>\n",
       "      <th>anio_nacimiento</th>\n",
       "      <th>des_tipo_personal</th>\n",
       "      <th>...</th>\n",
       "      <th>des_mencion_europea</th>\n",
       "      <th>des_tipo_unidad_responsable</th>\n",
       "      <th>des_area_conocimiento</th>\n",
       "      <th>anio_incorporacion_ap</th>\n",
       "      <th>anio_incorpora_cuerpo_docente</th>\n",
       "      <th>num_trienios</th>\n",
       "      <th>num_quinquenios</th>\n",
       "      <th>num_sexenios</th>\n",
       "      <th>num_tesis</th>\n",
       "      <th>ind_investigador_principal</th>\n",
       "    </tr>\n",
       "  </thead>\n",
       "  <tbody>\n",
       "    <tr>\n",
       "      <th>207</th>\n",
       "      <td>Universidad Autónoma de Madrid</td>\n",
       "      <td>2018</td>\n",
       "      <td>España</td>\n",
       "      <td>Europa</td>\n",
       "      <td>Europa meridional</td>\n",
       "      <td>Madrid</td>\n",
       "      <td>Madrid</td>\n",
       "      <td>MADRID</td>\n",
       "      <td>1980</td>\n",
       "      <td>Funcionario de carrera</td>\n",
       "      <td>...</td>\n",
       "      <td>No</td>\n",
       "      <td>Departamento</td>\n",
       "      <td>Lenguajes y Sistemas Informáticos</td>\n",
       "      <td>1999.0</td>\n",
       "      <td>2005.0</td>\n",
       "      <td>6</td>\n",
       "      <td>4</td>\n",
       "      <td>3</td>\n",
       "      <td>NaN</td>\n",
       "      <td>N</td>\n",
       "    </tr>\n",
       "  </tbody>\n",
       "</table>\n",
       "<p>1 rows × 33 columns</p>\n",
       "</div>"
      ],
      "text/plain": [
       "                    des_universidad  anio des_pais_nacionalidad  \\\n",
       "207  Universidad Autónoma de Madrid  2018                España   \n",
       "\n",
       "    des_continente_nacionalidad des_agregacion_paises_nacionalidad  \\\n",
       "207                      Europa                  Europa meridional   \n",
       "\n",
       "    des_comunidad_residencia des_provincia_residencia  \\\n",
       "207                   Madrid                   Madrid   \n",
       "\n",
       "    des_municipio_residencia  anio_nacimiento       des_tipo_personal  ...  \\\n",
       "207                   MADRID             1980  Funcionario de carrera  ...   \n",
       "\n",
       "    des_mencion_europea des_tipo_unidad_responsable  \\\n",
       "207                  No                Departamento   \n",
       "\n",
       "                 des_area_conocimiento  anio_incorporacion_ap  \\\n",
       "207  Lenguajes y Sistemas Informáticos                 1999.0   \n",
       "\n",
       "    anio_incorpora_cuerpo_docente num_trienios num_quinquenios num_sexenios  \\\n",
       "207                        2005.0            6               4            3   \n",
       "\n",
       "    num_tesis ind_investigador_principal  \n",
       "207       NaN                          N  \n",
       "\n",
       "[1 rows x 33 columns]"
      ]
     },
     "execution_count": 6,
     "metadata": {},
     "output_type": "execute_result"
    }
   ],
   "source": [
    "df[df.des_pais_nacionalidad == \"España\"].head(1)"
   ]
  },
  {
   "cell_type": "markdown",
   "metadata": {},
   "source": [
    "En este bloque vemos que sólo disponemos de 2 posibles valores para la nacionalidad: Española e Italiana. En este momento podríamos decir con una seguridad del $98,24\\%$ que Álvaro tiene nacionalidad Española.\n",
    "\n",
    "Consultando fuentes externas [1](https://www.linkedin.com/in/alvaroortigosa/), [2](https://ieeexplore.ieee.org/author/37668186700) podemos  ver que Álvaro no tiene relación alguna con Italia y que tal y como afirma él mismo, no tiene conocimientos de Italiano. Con ello, podemos asegurar prácticamente con total seguridad que Ortigosa tiene nacionalidad Española."
   ]
  },
  {
   "cell_type": "markdown",
   "metadata": {},
   "source": [
    "## Bloque 3"
   ]
  },
  {
   "cell_type": "code",
   "execution_count": 7,
   "metadata": {},
   "outputs": [
    {
     "data": {
      "text/plain": [
       "array(['Madrid'], dtype=object)"
      ]
     },
     "execution_count": 7,
     "metadata": {},
     "output_type": "execute_result"
    }
   ],
   "source": [
    "bloque3.des_comunidad_residencia.unique()"
   ]
  },
  {
   "cell_type": "markdown",
   "metadata": {},
   "source": [
    "Dado que sólo aparecen datos de residentes en la Comunidad de Madrid, podemos estar seguros de que reside en ella."
   ]
  },
  {
   "cell_type": "code",
   "execution_count": 8,
   "metadata": {},
   "outputs": [
    {
     "data": {
      "text/plain": [
       "MADRID                        28\n",
       "ALCOBENDAS                     6\n",
       "SAN SEBASTIÁN DE LOS REYES     5\n",
       "COLMENAR VIEJO                 5\n",
       "ALCORCÓN                       2\n",
       "MORALZARZAL                    1\n",
       "BOALO, EL                      1\n",
       "MAJADAHONDA                    1\n",
       "ALCALÁ DE HENARES              1\n",
       "SAN AGUSTÍN DEL GUADALIX       1\n",
       "COLMENAREJO                    1\n",
       "HOYO DE MANZANARES             1\n",
       "POZUELO DE ALARCÓN             1\n",
       "LEGANÉS                        1\n",
       "GALAPAGAR                      1\n",
       "ALGETE                         1\n",
       "Name: des_municipio_residencia, dtype: int64"
      ]
     },
     "execution_count": 8,
     "metadata": {},
     "output_type": "execute_result"
    }
   ],
   "source": [
    "bloque3.des_municipio_residencia.value_counts()"
   ]
  },
  {
   "cell_type": "markdown",
   "metadata": {},
   "source": [
    "Respecto al municipio, podemos decir que no tenemos demasiada información al respecto. Podemos decir con un $49,12\\%$ de seguridad que vive en la ciudad de Madrid o con un $28,07\\%$ que vive en alguna de las grandes ciudades de la zona norte (Alcobendas, San Sebastián de los Reyes o Colmenar Viejo)"
   ]
  },
  {
   "cell_type": "markdown",
   "metadata": {},
   "source": [
    "## Bloque 4"
   ]
  },
  {
   "cell_type": "code",
   "execution_count": 9,
   "metadata": {},
   "outputs": [
    {
     "data": {
      "text/plain": [
       "Index(['anio_nacimiento'], dtype='object')"
      ]
     },
     "execution_count": 9,
     "metadata": {},
     "output_type": "execute_result"
    }
   ],
   "source": [
    "bloque4.columns"
   ]
  },
  {
   "cell_type": "markdown",
   "metadata": {},
   "source": [
    "En este bloque encontramos el año de nacimiento de los profesores. Según la fuente [2](https://ieeexplore.ieee.org/author/37668186700), Álvaro nació en 1968 en San Carlos de Bariloche, Argentina."
   ]
  },
  {
   "cell_type": "code",
   "execution_count": 10,
   "metadata": {},
   "outputs": [
    {
     "data": {
      "text/html": [
       "<div>\n",
       "<style scoped>\n",
       "    .dataframe tbody tr th:only-of-type {\n",
       "        vertical-align: middle;\n",
       "    }\n",
       "\n",
       "    .dataframe tbody tr th {\n",
       "        vertical-align: top;\n",
       "    }\n",
       "\n",
       "    .dataframe thead th {\n",
       "        text-align: right;\n",
       "    }\n",
       "</style>\n",
       "<table border=\"1\" class=\"dataframe\">\n",
       "  <thead>\n",
       "    <tr style=\"text-align: right;\">\n",
       "      <th></th>\n",
       "      <th>anio_nacimiento</th>\n",
       "    </tr>\n",
       "  </thead>\n",
       "  <tbody>\n",
       "    <tr>\n",
       "      <th>218</th>\n",
       "      <td>1968</td>\n",
       "    </tr>\n",
       "    <tr>\n",
       "      <th>219</th>\n",
       "      <td>1968</td>\n",
       "    </tr>\n",
       "  </tbody>\n",
       "</table>\n",
       "</div>"
      ],
      "text/plain": [
       "     anio_nacimiento\n",
       "218             1968\n",
       "219             1968"
      ]
     },
     "execution_count": 10,
     "metadata": {},
     "output_type": "execute_result"
    }
   ],
   "source": [
    "bloque4[bloque4.anio_nacimiento == 1968]"
   ]
  },
  {
   "cell_type": "markdown",
   "metadata": {},
   "source": [
    "En el dataset tenemos a 2 profesores que nacieron en ese año.\n",
    "\n",
    "Dado que este dato está aislado dentro del bloque no podemos inferir más información."
   ]
  },
  {
   "cell_type": "markdown",
   "metadata": {},
   "source": [
    "## Bloque 5 "
   ]
  },
  {
   "cell_type": "markdown",
   "metadata": {},
   "source": [
    "Según las fuentes [1](https://www.linkedin.com/in/alvaroortigosa/) y [3](https://portalcientifico.uam.es/ipublic/agent-personal/profile/iMarinaID/04-261195), podemos pensar que en 2018, Álvaro era Profesor Asociado de la UAM."
   ]
  },
  {
   "cell_type": "code",
   "execution_count": 11,
   "metadata": {},
   "outputs": [
    {
     "data": {
      "text/html": [
       "<div>\n",
       "<style scoped>\n",
       "    .dataframe tbody tr th:only-of-type {\n",
       "        vertical-align: middle;\n",
       "    }\n",
       "\n",
       "    .dataframe tbody tr th {\n",
       "        vertical-align: top;\n",
       "    }\n",
       "\n",
       "    .dataframe thead th {\n",
       "        text-align: right;\n",
       "    }\n",
       "</style>\n",
       "<table border=\"1\" class=\"dataframe\">\n",
       "  <thead>\n",
       "    <tr style=\"text-align: right;\">\n",
       "      <th></th>\n",
       "      <th>des_tipo_personal</th>\n",
       "      <th>des_categoria_cuerpo_escala</th>\n",
       "      <th>des_tipo_contrato</th>\n",
       "      <th>des_dedicacion</th>\n",
       "      <th>num_horas_semanales_tiempo_parcial</th>\n",
       "      <th>des_situacion_administrativa</th>\n",
       "    </tr>\n",
       "  </thead>\n",
       "  <tbody>\n",
       "    <tr>\n",
       "      <th>216</th>\n",
       "      <td>Personal laboral</td>\n",
       "      <td>Profesor Asociado</td>\n",
       "      <td>Contrato de Duración Determinada</td>\n",
       "      <td>Dedicación a Tiempo Parcial</td>\n",
       "      <td>8.0</td>\n",
       "      <td>Servicio Activo</td>\n",
       "    </tr>\n",
       "  </tbody>\n",
       "</table>\n",
       "</div>"
      ],
      "text/plain": [
       "    des_tipo_personal des_categoria_cuerpo_escala  \\\n",
       "216  Personal laboral           Profesor Asociado   \n",
       "\n",
       "                    des_tipo_contrato               des_dedicacion  \\\n",
       "216  Contrato de Duración Determinada  Dedicación a Tiempo Parcial   \n",
       "\n",
       "     num_horas_semanales_tiempo_parcial des_situacion_administrativa  \n",
       "216                                 8.0              Servicio Activo  "
      ]
     },
     "execution_count": 11,
     "metadata": {},
     "output_type": "execute_result"
    }
   ],
   "source": [
    "bloque5[bloque5.des_categoria_cuerpo_escala == \"Profesor Asociado\"].drop_duplicates()"
   ]
  },
  {
   "cell_type": "markdown",
   "metadata": {},
   "source": [
    "Podemos ver entonces que su contrato es de duración determinada a tiempo parcial, dedicándole 8 horas semanales a labores docentes."
   ]
  },
  {
   "cell_type": "markdown",
   "metadata": {},
   "source": [
    "## Bloque 6"
   ]
  },
  {
   "cell_type": "code",
   "execution_count": 12,
   "metadata": {},
   "outputs": [
    {
     "data": {
      "text/plain": [
       "N    47\n",
       "S    10\n",
       "Name: ind_cargo_remunerado, dtype: int64"
      ]
     },
     "execution_count": 12,
     "metadata": {},
     "output_type": "execute_result"
    }
   ],
   "source": [
    "bloque6.ind_cargo_remunerado.value_counts()"
   ]
  },
  {
   "cell_type": "code",
   "execution_count": 13,
   "metadata": {},
   "outputs": [
    {
     "data": {
      "text/plain": [
       "Profesor Contratado Doctor         17\n",
       "Profesor Titular de Universidad    14\n",
       "Profesor Asociado                  10\n",
       "Ayudante                            6\n",
       "Catedrático de Universidad          6\n",
       "Profesor Ayudante Doctor            4\n",
       "Name: des_categoria_cuerpo_escala, dtype: int64"
      ]
     },
     "execution_count": 13,
     "metadata": {},
     "output_type": "execute_result"
    }
   ],
   "source": [
    "bloque5.des_categoria_cuerpo_escala.value_counts()"
   ]
  },
  {
   "cell_type": "markdown",
   "metadata": {},
   "source": [
    "Nos parece extraño que sólo cobren 10 profesores de los 57 que aparecen en nuestra muestra. \n",
    "Al compararlo con las categorías de empleado, vemos que el valor de Profesores Asociados coincide con el número de profesores con cargo remunerado. Esto nos hace pensar que el resto de profesores cobran por sus labores de investigación en lugar de por sus horas de docencia.\n",
    "\n",
    "Por lo mismo, intuimos que Álvaro sí que cobra por sus labores docentes al estar incluido dentro del grupo de Profesores Asociados."
   ]
  },
  {
   "cell_type": "markdown",
   "metadata": {},
   "source": [
    "## Bloque 7"
   ]
  },
  {
   "cell_type": "markdown",
   "metadata": {},
   "source": [
    "Según la fuente [4](https://dialnet.unirioja.es/servlet/tesis?codigo=11586), podemos ver que Álvaro leyó su tesis en la Universidad Autónoma de Madrid en el año 2000 bajo el título `Método para la aplicación de documentación inteligente de frameworks orientados a objetos`"
   ]
  },
  {
   "cell_type": "code",
   "execution_count": 14,
   "metadata": {},
   "outputs": [
    {
     "data": {
      "text/html": [
       "<div>\n",
       "<style scoped>\n",
       "    .dataframe tbody tr th:only-of-type {\n",
       "        vertical-align: middle;\n",
       "    }\n",
       "\n",
       "    .dataframe tbody tr th {\n",
       "        vertical-align: top;\n",
       "    }\n",
       "\n",
       "    .dataframe thead th {\n",
       "        text-align: right;\n",
       "    }\n",
       "</style>\n",
       "<table border=\"1\" class=\"dataframe\">\n",
       "  <thead>\n",
       "    <tr style=\"text-align: right;\">\n",
       "      <th></th>\n",
       "      <th>des_titulo_doctorado</th>\n",
       "      <th>des_pais_doctorado</th>\n",
       "      <th>des_continente_doctorado</th>\n",
       "      <th>des_agregacion_paises_doctorado</th>\n",
       "      <th>des_universidad_doctorado</th>\n",
       "      <th>anio_lectura_tesis</th>\n",
       "      <th>anio_expedicion_titulo_doctor</th>\n",
       "      <th>des_mencion_europea</th>\n",
       "    </tr>\n",
       "  </thead>\n",
       "  <tbody>\n",
       "    <tr>\n",
       "      <th>220</th>\n",
       "      <td>Uno</td>\n",
       "      <td>España</td>\n",
       "      <td>Europa</td>\n",
       "      <td>Europa meridional</td>\n",
       "      <td>Universidad Autónoma de Madrid</td>\n",
       "      <td>2000.0</td>\n",
       "      <td>2000.0</td>\n",
       "      <td>No</td>\n",
       "    </tr>\n",
       "  </tbody>\n",
       "</table>\n",
       "</div>"
      ],
      "text/plain": [
       "    des_titulo_doctorado des_pais_doctorado des_continente_doctorado  \\\n",
       "220                  Uno             España                   Europa   \n",
       "\n",
       "    des_agregacion_paises_doctorado       des_universidad_doctorado  \\\n",
       "220               Europa meridional  Universidad Autónoma de Madrid   \n",
       "\n",
       "     anio_lectura_tesis  anio_expedicion_titulo_doctor des_mencion_europea  \n",
       "220              2000.0                         2000.0                  No  "
      ]
     },
     "execution_count": 14,
     "metadata": {},
     "output_type": "execute_result"
    }
   ],
   "source": [
    "bloque7.loc[(bloque7.des_titulo_doctorado == \"Uno\") &\n",
    "            (bloque7.anio_lectura_tesis == 2000) &\n",
    "            (bloque7.des_universidad_doctorado == \"Universidad Autónoma de Madrid\")].drop_duplicates()"
   ]
  },
  {
   "cell_type": "markdown",
   "metadata": {},
   "source": [
    "De aquí obtenemos que Álvaro no obtuvo la mención europea en su tesis doctoral."
   ]
  },
  {
   "cell_type": "markdown",
   "metadata": {},
   "source": [
    "## Bloque 8"
   ]
  },
  {
   "cell_type": "markdown",
   "metadata": {},
   "source": [
    "Según [3](https://portalcientifico.uam.es/ipublic/agent-personal/profile/iMarinaID/04-261195), podemos asegurar que Álvaro pertenece al área de conocimiento `Lenguajes y Sistemas Informáticos`. Área que aparece en el conjunto de datos como se puede ver a continuación:"
   ]
  },
  {
   "cell_type": "code",
   "execution_count": 15,
   "metadata": {},
   "outputs": [
    {
     "data": {
      "text/plain": [
       "Ciencia de la Computación e Inteligencia Artificial    32\n",
       "Lenguajes y Sistemas Informáticos                      25\n",
       "Name: des_area_conocimiento, dtype: int64"
      ]
     },
     "execution_count": 15,
     "metadata": {},
     "output_type": "execute_result"
    }
   ],
   "source": [
    "bloque8.des_area_conocimiento.value_counts()"
   ]
  },
  {
   "cell_type": "markdown",
   "metadata": {},
   "source": [
    "En este caso, los profesores están distribuidos de manera muy uniforme, por lo que no nos decantamos por ninguna de las opciones."
   ]
  },
  {
   "cell_type": "markdown",
   "metadata": {},
   "source": [
    "## Bloque 9"
   ]
  },
  {
   "cell_type": "markdown",
   "metadata": {},
   "source": [
    "Según [3](https://portalcientifico.uam.es/ipublic/agent-personal/profile/iMarinaID/04-261195), podemos ver que Álvaro cuenta con 3 quinquenios y 4 sexenios. Además, vemos que comenzó su docencia en 2001 como Profesor Asociado Tipo 3."
   ]
  },
  {
   "cell_type": "code",
   "execution_count": 16,
   "metadata": {},
   "outputs": [
    {
     "data": {
      "text/html": [
       "<div>\n",
       "<style scoped>\n",
       "    .dataframe tbody tr th:only-of-type {\n",
       "        vertical-align: middle;\n",
       "    }\n",
       "\n",
       "    .dataframe tbody tr th {\n",
       "        vertical-align: top;\n",
       "    }\n",
       "\n",
       "    .dataframe thead th {\n",
       "        text-align: right;\n",
       "    }\n",
       "</style>\n",
       "<table border=\"1\" class=\"dataframe\">\n",
       "  <thead>\n",
       "    <tr style=\"text-align: right;\">\n",
       "      <th></th>\n",
       "      <th>anio_incorporacion_ap</th>\n",
       "      <th>anio_incorpora_cuerpo_docente</th>\n",
       "      <th>num_trienios</th>\n",
       "      <th>num_quinquenios</th>\n",
       "      <th>num_sexenios</th>\n",
       "    </tr>\n",
       "  </thead>\n",
       "  <tbody>\n",
       "    <tr>\n",
       "      <th>262</th>\n",
       "      <td>NaN</td>\n",
       "      <td>NaN</td>\n",
       "      <td>5</td>\n",
       "      <td>3</td>\n",
       "      <td>4</td>\n",
       "    </tr>\n",
       "  </tbody>\n",
       "</table>\n",
       "</div>"
      ],
      "text/plain": [
       "     anio_incorporacion_ap  anio_incorpora_cuerpo_docente  num_trienios  \\\n",
       "262                    NaN                            NaN             5   \n",
       "\n",
       "     num_quinquenios  num_sexenios  \n",
       "262                3             4  "
      ]
     },
     "execution_count": 16,
     "metadata": {},
     "output_type": "execute_result"
    }
   ],
   "source": [
    "bloque9.loc[(bloque9.num_sexenios == 4) &\n",
    "            (bloque9.num_quinquenios == 3)]"
   ]
  },
  {
   "cell_type": "markdown",
   "metadata": {},
   "source": [
    "Con este dato inferimos que Álvaro cuenta con 5 trienios (a fecha de 31 de diciembre de 2018)."
   ]
  },
  {
   "cell_type": "markdown",
   "metadata": {},
   "source": [
    "## Bloque 10"
   ]
  },
  {
   "cell_type": "code",
   "execution_count": 17,
   "metadata": {},
   "outputs": [
    {
     "data": {
      "text/plain": [
       "array([nan,  1.])"
      ]
     },
     "execution_count": 17,
     "metadata": {},
     "output_type": "execute_result"
    }
   ],
   "source": [
    "bloque10.num_tesis.unique()"
   ]
  },
  {
   "cell_type": "markdown",
   "metadata": {},
   "source": [
    "En este bloque vamos a suponer que NaN implica que el profesor no ha dirigido ninguna tesis leída en 2018. Según [3](https://portalcientifico.uam.es/ipublic/agent-personal/profile/iMarinaID/04-261195), Álvaro sólo ha dirigido tesis en los años 2008 y 2010, por lo que debería ser uno de los NaN."
   ]
  },
  {
   "cell_type": "code",
   "execution_count": 18,
   "metadata": {},
   "outputs": [
    {
     "data": {
      "text/plain": [
       "1.0    3\n",
       "Name: num_tesis, dtype: int64"
      ]
     },
     "execution_count": 18,
     "metadata": {},
     "output_type": "execute_result"
    }
   ],
   "source": [
    "bloque10.num_tesis.value_counts()"
   ]
  },
  {
   "cell_type": "markdown",
   "metadata": {},
   "source": [
    "Aún así, de no conocer esta información, sólo encontramos 3 profesores que hayan dirigido una tesis leída ese año, por lo que la probabilidad de que Álvaro no perteneciera a ese grupo es de $94.74\\%$"
   ]
  },
  {
   "cell_type": "markdown",
   "metadata": {},
   "source": [
    "## Bloque 11"
   ]
  },
  {
   "cell_type": "markdown",
   "metadata": {},
   "source": [
    "Según [3](https://portalcientifico.uam.es/ipublic/agent-personal/profile/iMarinaID/04-261195), Álvaro participó como Investigador Principal en el proyecto `Criminal justice access to digital evidences in the cloud` entre los años 2016 y 2018."
   ]
  },
  {
   "cell_type": "code",
   "execution_count": 19,
   "metadata": {},
   "outputs": [
    {
     "data": {
      "text/plain": [
       "N    43\n",
       "S    14\n",
       "Name: ind_investigador_principal, dtype: int64"
      ]
     },
     "execution_count": 19,
     "metadata": {},
     "output_type": "execute_result"
    }
   ],
   "source": [
    "bloque11.ind_investigador_principal.value_counts()"
   ]
  },
  {
   "cell_type": "markdown",
   "metadata": {},
   "source": [
    "De no conocer la información nos podríamos decantar por que no ha sido Investigador Principal en un proyecto ya que es el grupo mayoritario ($75.44\\%$)."
   ]
  }
 ],
 "metadata": {
  "kernelspec": {
   "display_name": "Python 3",
   "language": "python",
   "name": "python3"
  },
  "language_info": {
   "codemirror_mode": {
    "name": "ipython",
    "version": 3
   },
   "file_extension": ".py",
   "mimetype": "text/x-python",
   "name": "python",
   "nbconvert_exporter": "python",
   "pygments_lexer": "ipython3",
   "version": "3.8.3"
  }
 },
 "nbformat": 4,
 "nbformat_minor": 4
}
